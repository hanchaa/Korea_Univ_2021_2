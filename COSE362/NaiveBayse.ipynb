{
 "cells": [
  {
   "cell_type": "markdown",
   "metadata": {
    "collapsed": true,
    "pycharm": {
     "name": "#%% md\n"
    }
   },
   "source": [
    "# 2019320016 차주한\n",
    "\n",
    "### Dataset load function"
   ]
  },
  {
   "cell_type": "code",
   "execution_count": 2,
   "outputs": [],
   "source": [
    "import pandas as pd\n",
    "\n",
    "def load_data(path, remove_duplicate):\n",
    "    data = pd.read_csv(path)\n",
    "    del data[\"id\"]\n",
    "\n",
    "    print(f\"데이터 수: {len(data)}\")\n",
    "\n",
    "    if remove_duplicate:\n",
    "        data.drop_duplicates(subset=[\"mail\"], inplace=True)\n",
    "        print(f\"중복 제거 후 데이터 수: {len(data)}\")\n",
    "\n",
    "    print(data[:5])\n",
    "    print()\n",
    "\n",
    "    return data"
   ],
   "metadata": {
    "collapsed": false,
    "pycharm": {
     "name": "#%%\n"
    }
   }
  },
  {
   "cell_type": "markdown",
   "source": [
    "### Tokenizer"
   ],
   "metadata": {
    "collapsed": false,
    "pycharm": {
     "name": "#%% md\n"
    }
   }
  },
  {
   "cell_type": "code",
   "execution_count": 3,
   "outputs": [
    {
     "name": "stderr",
     "output_type": "stream",
     "text": [
      "[nltk_data] Downloading package punkt to\n",
      "[nltk_data]     C:\\Users\\hanchaa\\AppData\\Roaming\\nltk_data...\n",
      "[nltk_data]   Package punkt is already up-to-date!\n",
      "[nltk_data] Downloading package stopwords to\n",
      "[nltk_data]     C:\\Users\\hanchaa\\AppData\\Roaming\\nltk_data...\n",
      "[nltk_data]   Package stopwords is already up-to-date!\n",
      "[nltk_data] Downloading package wordnet to\n",
      "[nltk_data]     C:\\Users\\hanchaa\\AppData\\Roaming\\nltk_data...\n",
      "[nltk_data]   Package wordnet is already up-to-date!\n",
      "[nltk_data] Downloading package treebank to\n",
      "[nltk_data]     C:\\Users\\hanchaa\\AppData\\Roaming\\nltk_data...\n",
      "[nltk_data]   Package treebank is already up-to-date!\n"
     ]
    }
   ],
   "source": [
    "import nltk\n",
    "from nltk.corpus import stopwords\n",
    "from nltk.stem.wordnet import WordNetLemmatizer\n",
    "from nltk.tokenize import TreebankWordTokenizer\n",
    "\n",
    "nltk.download(\"punkt\")\n",
    "nltk.download(\"stopwords\")\n",
    "nltk.download(\"wordnet\")\n",
    "nltk.download(\"treebank\")\n",
    "\n",
    "tb_tokenizer = TreebankWordTokenizer()\n",
    "stop_words = stopwords.words(\"english\")\n",
    "lemmatizer = WordNetLemmatizer()\n",
    "\n",
    "def tokenizer(text):\n",
    "    tokens = tb_tokenizer.tokenize(text)\n",
    "    tokens = [lemmatizer.lemmatize(word) for word in tokens if word not in stop_words]\n",
    "\n",
    "    return tokens"
   ],
   "metadata": {
    "collapsed": false,
    "pycharm": {
     "name": "#%%\n"
    }
   }
  },
  {
   "cell_type": "markdown",
   "source": [
    "### Split train and validation set"
   ],
   "metadata": {
    "collapsed": false,
    "pycharm": {
     "name": "#%% md\n"
    }
   }
  },
  {
   "cell_type": "code",
   "execution_count": 4,
   "outputs": [
    {
     "name": "stdout",
     "output_type": "stream",
     "text": [
      "데이터 수: 3620\n",
      "중복 제거 후 데이터 수: 3528\n",
      "   label                                               mail\n",
      "0      0  Subject: update on prc process\\r\\nplease read ...\n",
      "1      1  Subject: via - gra pro will get you hard consu...\n",
      "2      0  Subject: re : southern\\r\\ndarren :\\r\\ni zeroed...\n",
      "3      0  Subject: hpl nom for sept . 22 , 2000\\r\\n( see...\n",
      "4      1  Subject: perform your best in bed\\r\\ngeneric c...\n",
      "\n",
      "train data\n",
      "non spam: 71.297%\n",
      "spam: 28.703%\n",
      "\n",
      "validation data\n",
      "non spam: 71.246%\n",
      "non spam: 28.754%\n"
     ]
    }
   ],
   "source": [
    "from sklearn.model_selection import train_test_split\n",
    "\n",
    "data = load_data(\"./data/train.csv\", True)\n",
    "\n",
    "X = data[\"mail\"]\n",
    "y = data[\"label\"]\n",
    "\n",
    "X_train_temp, X_val_temp, y_train, y_val = train_test_split(X, y, test_size=0.2, random_state=0, stratify=y)\n",
    "\n",
    "print(\"train data\")\n",
    "print(f\"non spam: {round(y_train.value_counts()[0]/len(y_train) * 100, 3)}%\")\n",
    "print(f\"spam: {round(y_train.value_counts()[1]/len(y_train) * 100, 3)}%\")\n",
    "\n",
    "print()\n",
    "\n",
    "print(\"validation data\")\n",
    "print(f\"non spam: {round(y_val.value_counts()[0]/len(y_val) * 100, 3)}%\")\n",
    "print(f\"non spam: {round(y_val.value_counts()[1]/len(y_val) * 100, 3)}%\")"
   ],
   "metadata": {
    "collapsed": false,
    "pycharm": {
     "name": "#%%\n"
    }
   }
  },
  {
   "cell_type": "markdown",
   "source": [
    "### Preprocess data"
   ],
   "metadata": {
    "collapsed": false,
    "pycharm": {
     "name": "#%% md\n"
    }
   }
  },
  {
   "cell_type": "code",
   "execution_count": 5,
   "outputs": [
    {
     "name": "stdout",
     "output_type": "stream",
     "text": [
      "subject dtm shape: (2822, 33572)\n"
     ]
    }
   ],
   "source": [
    "from sklearn.feature_extraction.text import TfidfVectorizer\n",
    "\n",
    "vectorizer = TfidfVectorizer(tokenizer=tokenizer)\n",
    "X_train_vectorized = vectorizer.fit_transform(X_train_temp)\n",
    "print(\"subject dtm shape: \" + str(X_train_vectorized.shape))"
   ],
   "metadata": {
    "collapsed": false,
    "pycharm": {
     "name": "#%%\n"
    }
   }
  },
  {
   "cell_type": "markdown",
   "source": [
    "### Train naive bayse model"
   ],
   "metadata": {
    "collapsed": false,
    "pycharm": {
     "name": "#%% md\n"
    }
   }
  },
  {
   "cell_type": "code",
   "execution_count": 10,
   "outputs": [
    {
     "name": "stdout",
     "output_type": "stream",
     "text": [
      "0.9932671863926293\n"
     ]
    }
   ],
   "source": [
    "from sklearn.naive_bayes import MultinomialNB\n",
    "from sklearn.metrics import accuracy_score\n",
    "import numpy as np\n",
    "\n",
    "# subject_mod = MultinomialNB(alpha=0.1)\n",
    "# subject_mod.fit(X_train_vectorized[\"subject\"], y_train)\n",
    "#\n",
    "# body_mod = MultinomialNB(alpha=1)\n",
    "# body_mod.fit(X_train_vectorized[\"body\"], y_train)\n",
    "#\n",
    "# p = 0.6\n",
    "# threshold = 0.5\n",
    "#\n",
    "# predicted_with_subject = subject_mod.predict_proba(X_train_vectorized[\"subject\"])\n",
    "# predicted_with_body = body_mod.predict_proba(X_train_vectorized[\"body\"])\n",
    "#\n",
    "# predicted = np.where((p * predicted_with_subject + (1 - p) * predicted_with_body)[:, 1] > threshold, 1, 0)\n",
    "\n",
    "model = MultinomialNB(alpha=0.1)\n",
    "model.fit(X_train_vectorized, y_train)\n",
    "\n",
    "predicted = model.predict(X_train_vectorized)\n",
    "\n",
    "print(accuracy_score(y_train, predicted))\n"
   ],
   "metadata": {
    "collapsed": false,
    "pycharm": {
     "name": "#%%\n"
    }
   }
  },
  {
   "cell_type": "markdown",
   "source": [
    "### Test on validation set"
   ],
   "metadata": {
    "collapsed": false,
    "pycharm": {
     "name": "#%% md\n"
    }
   }
  },
  {
   "cell_type": "code",
   "execution_count": 11,
   "outputs": [
    {
     "name": "stdout",
     "output_type": "stream",
     "text": [
      "0.9759206798866855\n"
     ]
    }
   ],
   "source": [
    "# X_val_dtm = {\"subject\": subject_vectorizer.transform(X_val[\"subject\"]), \"body\": body_vectorizer.transform(X_val[\"body\"])}\n",
    "#\n",
    "# predicted_with_subject = subject_mod.predict_proba(X_val_dtm[\"subject\"])\n",
    "# predicted_with_body = body_mod.predict_proba(X_val_dtm[\"body\"])\n",
    "#\n",
    "# predicted = np.where((p * predicted_with_subject + (1 - p) * predicted_with_body)[:, 1] > threshold, 1, 0)\n",
    "\n",
    "X_val_vectorized = vectorizer.transform(X_val_temp)\n",
    "predicted = model.predict(X_val_vectorized)\n",
    "\n",
    "print(accuracy_score(y_val, predicted))"
   ],
   "metadata": {
    "collapsed": false,
    "pycharm": {
     "name": "#%%\n"
    }
   }
  },
  {
   "cell_type": "markdown",
   "source": [
    "### Predict on test set"
   ],
   "metadata": {
    "collapsed": false,
    "pycharm": {
     "name": "#%% md\n"
    }
   }
  },
  {
   "cell_type": "code",
   "execution_count": 12,
   "outputs": [
    {
     "name": "stdout",
     "output_type": "stream",
     "text": [
      "데이터 수: 1551\n",
      "                                                mail\n",
      "0  Subject: re : coastal ctr # 96008903 meter 098...\n",
      "1  Subject: re :\\r\\nfyi\\r\\n- - - - - - - - - - - ...\n",
      "2  Subject: hpl nomination changes for july 25 an...\n",
      "3  Subject: new stack manager\\r\\nthere is a new v...\n",
      "4  Subject: deletion of your enrononline user id\\...\n",
      "\n",
      "[0 0 0 ... 1 0 0]\n"
     ]
    }
   ],
   "source": [
    "import csv\n",
    "\n",
    "test_data = load_data(\"./data/test.csv\", False)\n",
    "\n",
    "X_test_temp = test_data[\"mail\"]\n",
    "\n",
    "# X_test = {}\n",
    "# X_test[\"subject\"], X_test[\"body\"] = split_mail(X_test_temp)\n",
    "#\n",
    "# X_test_dtm = {\"subject\": subject_vectorizer.transform(X_test[\"subject\"]), \"body\": body_vectorizer.transform(X_test[\"body\"])}\n",
    "#\n",
    "# predicted_with_subject = subject_mod.predict_proba(X_test_dtm[\"subject\"])\n",
    "# predicted_with_body = body_mod.predict_proba(X_test_dtm[\"body\"])\n",
    "#\n",
    "# predicted = np.where((p * predicted_with_subject + (1 - p) * predicted_with_body)[:, 1] > threshold, 1, 0)\n",
    "X_test_vectorized = vectorizer.transform(X_test_temp)\n",
    "predicted = model.predict(X_test_vectorized)\n",
    "\n",
    "print(predicted)\n",
    "\n",
    "f = open(\"result_NB.csv\", \"w\", newline=\"\")\n",
    "wr = csv.writer(f)\n",
    "wr.writerow([\"id\", \"label\"])\n",
    "\n",
    "id = 0\n",
    "for i in predicted:\n",
    "    wr.writerow([id, i])\n",
    "    id += 1\n",
    "\n",
    "f.close()"
   ],
   "metadata": {
    "collapsed": false,
    "pycharm": {
     "name": "#%%\n"
    }
   }
  }
 ],
 "metadata": {
  "kernelspec": {
   "display_name": "Python 3",
   "language": "python",
   "name": "python3"
  },
  "language_info": {
   "codemirror_mode": {
    "name": "ipython",
    "version": 2
   },
   "file_extension": ".py",
   "mimetype": "text/x-python",
   "name": "python",
   "nbconvert_exporter": "python",
   "pygments_lexer": "ipython2",
   "version": "2.7.6"
  }
 },
 "nbformat": 4,
 "nbformat_minor": 0
}