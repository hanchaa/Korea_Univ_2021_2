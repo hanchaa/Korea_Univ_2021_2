{
 "cells": [
  {
   "cell_type": "markdown",
   "metadata": {
    "collapsed": true,
    "pycharm": {
     "name": "#%% md\n"
    }
   },
   "source": [
    "# 2019320016 차주한\n",
    "\n",
    "### Function that loads dataset"
   ]
  },
  {
   "cell_type": "code",
   "execution_count": 90,
   "outputs": [],
   "source": [
    "import pandas as pd\n",
    "\n",
    "def load_data(path, remove_duplicate):\n",
    "    data = pd.read_csv(path)\n",
    "    del data[\"id\"]\n",
    "\n",
    "    print(f\"데이터 수: {len(data)}\")\n",
    "\n",
    "    if remove_duplicate:\n",
    "        data.drop_duplicates(subset=[\"mail\"], inplace=True)\n",
    "        print(f\"중복 제거 후 데이터 수: {len(data)}\")\n",
    "\n",
    "    print(data[:5])\n",
    "    print()\n",
    "\n",
    "    return data"
   ],
   "metadata": {
    "collapsed": false,
    "pycharm": {
     "name": "#%%\n"
    }
   }
  },
  {
   "cell_type": "markdown",
   "source": [
    "### Function that splits mail into subject and body"
   ],
   "metadata": {
    "collapsed": false,
    "pycharm": {
     "name": "#%% md\n"
    }
   }
  },
  {
   "cell_type": "code",
   "execution_count": 50,
   "outputs": [],
   "source": [
    "def split_mail(X):\n",
    "    subject = []\n",
    "    body = []\n",
    "\n",
    "    for mail in X:\n",
    "        mail = mail.split(\"Subject: \", 1)[1]\n",
    "        subject_mail = mail.split(\"\\r\\n\", 1)\n",
    "\n",
    "        subject.append(subject_mail[0])\n",
    "        body.append(subject_mail[1])\n",
    "\n",
    "    return subject, body\n"
   ],
   "metadata": {
    "collapsed": false,
    "pycharm": {
     "name": "#%%\n"
    }
   }
  },
  {
   "cell_type": "markdown",
   "source": [
    "### Split train and validation set"
   ],
   "metadata": {
    "collapsed": false,
    "pycharm": {
     "name": "#%% md\n"
    }
   }
  },
  {
   "cell_type": "code",
   "execution_count": 51,
   "outputs": [
    {
     "name": "stdout",
     "output_type": "stream",
     "text": [
      "데이터 수: 3620\n",
      "   label                                               mail\n",
      "0      0  Subject: update on prc process\\r\\nplease read ...\n",
      "1      1  Subject: via - gra pro will get you hard consu...\n",
      "2      0  Subject: re : southern\\r\\ndarren :\\r\\ni zeroed...\n",
      "3      0  Subject: hpl nom for sept . 22 , 2000\\r\\n( see...\n",
      "4      1  Subject: perform your best in bed\\r\\ngeneric c...\n",
      "중복 제거 후 데이터 수: 3528\n",
      "\n",
      "train data\n",
      "non spam: 71.297%\n",
      "spam: 28.703%\n",
      "\n",
      "validation data\n",
      "non spam: 71.246%\n",
      "non spam: 28.754%\n"
     ]
    }
   ],
   "source": [
    "from sklearn.model_selection import train_test_split\n",
    "\n",
    "data = load_data(\"./data/train.csv\", True)\n",
    "\n",
    "X = data[\"mail\"]\n",
    "y = data[\"label\"]\n",
    "\n",
    "X_train_temp, X_val_temp, y_train, y_val = train_test_split(X, y, test_size=0.3, random_state=0, stratify=y)\n",
    "\n",
    "X_train = {}\n",
    "X_train[\"subject\"], X_train[\"body\"] = split_mail(X_train_temp)\n",
    "\n",
    "X_val = {}\n",
    "X_val[\"subject\"], X_val[\"body\"] = split_mail(X_val_temp)\n",
    "\n",
    "print(\"train data\")\n",
    "print(f\"non spam: {round(y_train.value_counts()[0]/len(y_train) * 100, 3)}%\")\n",
    "print(f\"spam: {round(y_train.value_counts()[1]/len(y_train) * 100, 3)}%\")\n",
    "\n",
    "print()\n",
    "\n",
    "print(\"validation data\")\n",
    "print(f\"non spam: {round(y_val.value_counts()[0]/len(y_val) * 100, 3)}%\")\n",
    "print(f\"non spam: {round(y_val.value_counts()[1]/len(y_val) * 100, 3)}%\")"
   ],
   "metadata": {
    "collapsed": false,
    "pycharm": {
     "name": "#%%\n"
    }
   }
  },
  {
   "cell_type": "markdown",
   "source": [
    "### Preprocess data"
   ],
   "metadata": {
    "collapsed": false,
    "pycharm": {
     "name": "#%% md\n"
    }
   }
  },
  {
   "cell_type": "code",
   "execution_count": 65,
   "outputs": [
    {
     "name": "stdout",
     "output_type": "stream",
     "text": [
      "subject dtm shape: (2822, 3346)\n",
      "body dtm shape: (2822, 34584)\n"
     ]
    }
   ],
   "source": [
    "from sklearn.feature_extraction.text import CountVectorizer\n",
    "\n",
    "subject_vectorizer = CountVectorizer(stop_words=\"english\")\n",
    "body_vectorizer = CountVectorizer(stop_words=\"english\")\n",
    "X_train_dtm = {\"subject\": subject_vectorizer.fit_transform(X_train[\"subject\"]), \"body\": body_vectorizer.fit_transform(X_train[\"body\"])}\n",
    "\n",
    "print(\"subject dtm shape: \" + str(X_train_dtm[\"subject\"].shape))\n",
    "print(\"body dtm shape: \" + str(X_train_dtm[\"body\"].shape))"
   ],
   "metadata": {
    "collapsed": false,
    "pycharm": {
     "name": "#%%\n"
    }
   }
  },
  {
   "cell_type": "markdown",
   "source": [
    "### Train naive bayse model"
   ],
   "metadata": {
    "collapsed": false,
    "pycharm": {
     "name": "#%% md\n"
    }
   }
  },
  {
   "cell_type": "code",
   "execution_count": 123,
   "outputs": [
    {
     "name": "stdout",
     "output_type": "stream",
     "text": [
      "0.9961020552799433\n"
     ]
    }
   ],
   "source": [
    "from sklearn.naive_bayes import MultinomialNB\n",
    "from sklearn.metrics import accuracy_score\n",
    "import numpy as np\n",
    "\n",
    "subject_mod = MultinomialNB(alpha=0.1)\n",
    "subject_mod.fit(X_train_dtm[\"subject\"], y_train)\n",
    "\n",
    "body_mod = MultinomialNB(alpha=1)\n",
    "body_mod.fit(X_train_dtm[\"body\"], y_train)\n",
    "\n",
    "p = 0.5\n",
    "\n",
    "predicted_with_subject = subject_mod.predict_proba(X_train_dtm[\"subject\"])\n",
    "predicted_with_body = body_mod.predict_proba(X_train_dtm[\"body\"])\n",
    "\n",
    "predicted = np.where((p * predicted_with_subject + (1 - p) * predicted_with_body)[:, 1] > 0.5, 1, 0)\n",
    "\n",
    "print(accuracy_score(y_train, predicted))\n"
   ],
   "metadata": {
    "collapsed": false,
    "pycharm": {
     "name": "#%%\n"
    }
   }
  },
  {
   "cell_type": "markdown",
   "source": [
    "### Test on validation set"
   ],
   "metadata": {
    "collapsed": false,
    "pycharm": {
     "name": "#%% md\n"
    }
   }
  },
  {
   "cell_type": "code",
   "execution_count": 124,
   "outputs": [
    {
     "name": "stdout",
     "output_type": "stream",
     "text": [
      "0.9801699716713881\n"
     ]
    }
   ],
   "source": [
    "X_val_dtm = {\"subject\": subject_vectorizer.transform(X_val[\"subject\"]), \"body\": body_vectorizer.transform(X_val[\"body\"])}\n",
    "\n",
    "predicted_with_subject = subject_mod.predict_proba(X_val_dtm[\"subject\"])\n",
    "predicted_with_body = body_mod.predict_proba(X_val_dtm[\"body\"])\n",
    "\n",
    "predicted = np.where((p * predicted_with_subject + (1 - p) * predicted_with_body)[:, 1] > 0.5, 1, 0)\n",
    "\n",
    "print(accuracy_score(y_val, predicted))"
   ],
   "metadata": {
    "collapsed": false,
    "pycharm": {
     "name": "#%%\n"
    }
   }
  },
  {
   "cell_type": "markdown",
   "source": [
    "### Predict on test set"
   ],
   "metadata": {
    "collapsed": false,
    "pycharm": {
     "name": "#%% md\n"
    }
   }
  },
  {
   "cell_type": "code",
   "execution_count": 110,
   "outputs": [
    {
     "name": "stdout",
     "output_type": "stream",
     "text": [
      "데이터 수: 1551\n",
      "                                                mail\n",
      "0  Subject: re : coastal ctr # 96008903 meter 098...\n",
      "1  Subject: re :\\r\\nfyi\\r\\n- - - - - - - - - - - ...\n",
      "2  Subject: hpl nomination changes for july 25 an...\n",
      "3  Subject: new stack manager\\r\\nthere is a new v...\n",
      "4  Subject: deletion of your enrononline user id\\...\n",
      "\n",
      "[0 0 0 ... 1 0 0]\n"
     ]
    }
   ],
   "source": [
    "import csv\n",
    "\n",
    "test_data = load_data(\"./data/test.csv\", False)\n",
    "\n",
    "X_test_temp = test_data[\"mail\"]\n",
    "\n",
    "X_test = {}\n",
    "X_test[\"subject\"], X_test[\"body\"] = split_mail(X_test_temp)\n",
    "\n",
    "X_test_dtm = {\"subject\": subject_vectorizer.transform(X_test[\"subject\"]), \"body\": body_vectorizer.transform(X_test[\"body\"])}\n",
    "\n",
    "predicted_with_subject = subject_mod.predict_proba(X_test_dtm[\"subject\"])\n",
    "predicted_with_body = body_mod.predict_proba(X_test_dtm[\"body\"])\n",
    "\n",
    "predicted = np.where((p * predicted_with_subject + (1 - p) * predicted_with_body)[:, 1] > 0.5, 1, 0)\n",
    "print(predicted)\n",
    "\n",
    "f = open(\"result_NB.csv\", \"w\", newline=\"\")\n",
    "wr = csv.writer(f)\n",
    "wr.writerow([\"id\", \"label\"])\n",
    "\n",
    "id = 0\n",
    "for i in predicted:\n",
    "    wr.writerow([id, i])\n",
    "    id += 1\n",
    "\n",
    "f.close()"
   ],
   "metadata": {
    "collapsed": false,
    "pycharm": {
     "name": "#%%\n"
    }
   }
  }
 ],
 "metadata": {
  "kernelspec": {
   "display_name": "Python 3",
   "language": "python",
   "name": "python3"
  },
  "language_info": {
   "codemirror_mode": {
    "name": "ipython",
    "version": 2
   },
   "file_extension": ".py",
   "mimetype": "text/x-python",
   "name": "python",
   "nbconvert_exporter": "python",
   "pygments_lexer": "ipython2",
   "version": "2.7.6"
  }
 },
 "nbformat": 4,
 "nbformat_minor": 0
}