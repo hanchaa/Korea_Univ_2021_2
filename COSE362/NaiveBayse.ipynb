{
 "cells": [
  {
   "cell_type": "markdown",
   "metadata": {
    "collapsed": true,
    "pycharm": {
     "name": "#%% md\n"
    }
   },
   "source": [
    "# 2019320016 차주한\n",
    "\n",
    "### Load dataset"
   ]
  },
  {
   "cell_type": "code",
   "execution_count": 1,
   "outputs": [
    {
     "name": "stdout",
     "output_type": "stream",
     "text": [
      "3620\n",
      "   label                                               mail\n",
      "0      0  Subject: update on prc process\\r\\nplease read ...\n",
      "1      1  Subject: via - gra pro will get you hard consu...\n",
      "2      0  Subject: re : southern\\r\\ndarren :\\r\\ni zeroed...\n",
      "3      0  Subject: hpl nom for sept . 22 , 2000\\r\\n( see...\n",
      "4      1  Subject: perform your best in bed\\r\\ngeneric c...\n",
      "3528\n"
     ]
    }
   ],
   "source": [
    "import pandas as pd\n",
    "\n",
    "data = pd.read_csv(\"./data/train.csv\")\n",
    "del data[\"id\"]\n",
    "\n",
    "print(len(data))\n",
    "print(data[:5])\n",
    "\n",
    "data.drop_duplicates(subset=[\"mail\"], inplace=True)\n",
    "print(len(data))"
   ],
   "metadata": {
    "collapsed": false,
    "pycharm": {
     "name": "#%%\n"
    }
   }
  },
  {
   "cell_type": "markdown",
   "source": [
    "### Split train and validation set"
   ],
   "metadata": {
    "collapsed": false,
    "pycharm": {
     "name": "#%% md\n"
    }
   }
  },
  {
   "cell_type": "code",
   "execution_count": 2,
   "outputs": [
    {
     "name": "stdout",
     "output_type": "stream",
     "text": [
      "train data\n",
      "non spam: 71.297%\n",
      "spam: 28.703%\n",
      "\n",
      "validation data\n",
      "non spam: 71.246%\n",
      "non spam: 28.754%\n"
     ]
    }
   ],
   "source": [
    "from sklearn.model_selection import train_test_split\n",
    "\n",
    "X = data[\"mail\"]\n",
    "y = data[\"label\"]\n",
    "\n",
    "X_train, X_val, y_train, y_val = train_test_split(X, y, test_size=0.2, random_state=0, stratify=y)\n",
    "\n",
    "print(\"train data\")\n",
    "print(f\"non spam: {round(y_train.value_counts()[0]/len(y_train) * 100, 3)}%\")\n",
    "print(f\"spam: {round(y_train.value_counts()[1]/len(y_train) * 100, 3)}%\")\n",
    "\n",
    "print()\n",
    "\n",
    "print(\"validation data\")\n",
    "print(f\"non spam: {round(y_val.value_counts()[0]/len(y_val) * 100, 3)}%\")\n",
    "print(f\"non spam: {round(y_val.value_counts()[1]/len(y_val) * 100, 3)}%\")"
   ],
   "metadata": {
    "collapsed": false,
    "pycharm": {
     "name": "#%%\n"
    }
   }
  },
  {
   "cell_type": "markdown",
   "source": [
    "### Preprocess data"
   ],
   "metadata": {
    "collapsed": false,
    "pycharm": {
     "name": "#%% md\n"
    }
   }
  },
  {
   "cell_type": "code",
   "execution_count": 6,
   "outputs": [
    {
     "name": "stdout",
     "output_type": "stream",
     "text": [
      "(2822, 35143)\n"
     ]
    }
   ],
   "source": [
    "from sklearn.feature_extraction.text import CountVectorizer\n",
    "\n",
    "vectorize = CountVectorizer(stop_words=\"english\")\n",
    "X_train_dtm = vectorize.fit_transform(X_train)\n",
    "print(X_train_dtm.shape)"
   ],
   "metadata": {
    "collapsed": false,
    "pycharm": {
     "name": "#%%\n"
    }
   }
  },
  {
   "cell_type": "markdown",
   "source": [
    "### Train naive baise model"
   ],
   "metadata": {
    "collapsed": false,
    "pycharm": {
     "name": "#%% md\n"
    }
   }
  },
  {
   "cell_type": "code",
   "execution_count": 7,
   "outputs": [
    {
     "data": {
      "text/plain": "MultinomialNB()"
     },
     "execution_count": 7,
     "metadata": {},
     "output_type": "execute_result"
    }
   ],
   "source": [
    "from sklearn.naive_bayes import MultinomialNB\n",
    "\n",
    "mod = MultinomialNB(alpha=1.0)\n",
    "mod.fit(X_train_dtm, y_train)"
   ],
   "metadata": {
    "collapsed": false,
    "pycharm": {
     "name": "#%%\n"
    }
   }
  },
  {
   "cell_type": "markdown",
   "source": [
    "### Test on validation set"
   ],
   "metadata": {
    "collapsed": false,
    "pycharm": {
     "name": "#%% md\n"
    }
   }
  },
  {
   "cell_type": "code",
   "execution_count": 9,
   "outputs": [
    {
     "name": "stdout",
     "output_type": "stream",
     "text": [
      "0.9745042492917847\n"
     ]
    }
   ],
   "source": [
    "from sklearn.metrics import accuracy_score\n",
    "\n",
    "X_val_dtm = vectorize.transform(X_val)\n",
    "predicted = mod.predict(X_val_dtm)\n",
    "\n",
    "print(accuracy_score(y_val, predicted))"
   ],
   "metadata": {
    "collapsed": false,
    "pycharm": {
     "name": "#%%\n"
    }
   }
  },
  {
   "cell_type": "markdown",
   "source": [
    "### Predict on test set"
   ],
   "metadata": {
    "collapsed": false,
    "pycharm": {
     "name": "#%% md\n"
    }
   }
  },
  {
   "cell_type": "code",
   "execution_count": 12,
   "outputs": [
    {
     "name": "stdout",
     "output_type": "stream",
     "text": [
      "1551\n",
      "                                                mail\n",
      "0  Subject: re : coastal ctr # 96008903 meter 098...\n",
      "1  Subject: re :\\r\\nfyi\\r\\n- - - - - - - - - - - ...\n",
      "2  Subject: hpl nomination changes for july 25 an...\n",
      "3  Subject: new stack manager\\r\\nthere is a new v...\n",
      "4  Subject: deletion of your enrononline user id\\...\n",
      "[0 0 0 ... 1 0 0]\n"
     ]
    }
   ],
   "source": [
    "import csv\n",
    "\n",
    "test_data = pd.read_csv(\"./data/test.csv\")\n",
    "del test_data[\"id\"]\n",
    "\n",
    "print(len(test_data))\n",
    "print(test_data[:5])\n",
    "\n",
    "X_test = test_data[\"mail\"]\n",
    "X_test_dtm = vectorize.transform(X_test)\n",
    "predicted = mod.predict(X_test_dtm)\n",
    "\n",
    "print(predicted)\n",
    "\n",
    "f = open(\"result_NB.csv\", \"w\", newline=\"\")\n",
    "wr = csv.writer(f)\n",
    "wr.writerow([\"id\", \"label\"])\n",
    "\n",
    "id = 0\n",
    "for i in predicted:\n",
    "    wr.writerow([id, i])\n",
    "    id += 1\n",
    "\n",
    "f.close()"
   ],
   "metadata": {
    "collapsed": false,
    "pycharm": {
     "name": "#%%\n"
    }
   }
  }
 ],
 "metadata": {
  "kernelspec": {
   "display_name": "Python 3",
   "language": "python",
   "name": "python3"
  },
  "language_info": {
   "codemirror_mode": {
    "name": "ipython",
    "version": 2
   },
   "file_extension": ".py",
   "mimetype": "text/x-python",
   "name": "python",
   "nbconvert_exporter": "python",
   "pygments_lexer": "ipython2",
   "version": "2.7.6"
  }
 },
 "nbformat": 4,
 "nbformat_minor": 0
}